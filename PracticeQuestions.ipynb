{
 "cells": [
  {
   "cell_type": "code",
   "execution_count": 1,
   "metadata": {},
   "outputs": [],
   "source": [
    "import os"
   ]
  },
  {
   "cell_type": "code",
   "execution_count": 2,
   "metadata": {},
   "outputs": [
    {
     "data": {
      "text/plain": [
       "'C:\\\\Users\\\\Boniface\\\\Desktop\\\\pythonpractice\\\\DataScience\\\\notebooks'"
      ]
     },
     "execution_count": 2,
     "metadata": {},
     "output_type": "execute_result"
    }
   ],
   "source": [
    "os.getcwd()"
   ]
  },
  {
   "cell_type": "markdown",
   "metadata": {},
   "source": [
    "## __Data Science__\n",
    "Data science is an inter-disciplinary field where scientific methods, processes, algorithms and systems to extract knowledge and insights from many structural and unstructured data are used.\n",
    "## __supervised Vs Unsupervised Learning__\n",
    "* In Supervised learning training data fed to the model consist of Labels while in Unsupervised learning Training data is not labelled\n",
    "* Supervised learning is simple while unsupervised learning is complex and requires alot of computation power\n",
    "* Supervised Learning uses input data to learn the relationship between input and output while unsupervised learning uses never uses output data\n",
    "* Supervised is highly accurate and can be trusted while unsupervised can be innacurate therefore not trustable"
   ]
  },
  {
   "cell_type": "markdown",
   "metadata": {},
   "source": [
    "## Selection Bias\n",
    "Errors in conclusions drawn from sampled data due to a selection process that generates systematic differences between samples observed in the data and those not observed.\n",
    "\n",
    "__Examples include__\n",
    "* coverage bias\n",
    "* Sampling Bias\n",
    "* non-response bias"
   ]
  },
  {
   "cell_type": "markdown",
   "metadata": {},
   "source": [
    "## Bias-Variance tradeoff\n",
    "It is the property of a model that the __variance of the parameter estimates__ across samples can be reduced by __increasing the bias__ in the estimated parameters.\n",
    "\n",
    "__Bias error__ is an error from erroneous assumption in the learning algorithm that may result in underfitting(algorithm unable to establish relations in the data)\n",
    "__Variance__ is an error from sensitivity to small fluctuations in the training set.This results in overfitting to the training set. The algorithm tends to model the random noise rather than the intended output\n",
    "\n",
    "\n",
    "\n"
   ]
  },
  {
   "cell_type": "markdown",
   "metadata": {},
   "source": [
    "## Confusion-Matrix\n",
    "This refers to a matrix or table that helps determine a model's perfomance. It is also reffered to as the __error matrix__\n",
    "Terms Associated with this Matrix are\n",
    "* True-Positives\n",
    "* True-Negatives\n",
    "* False-Positives\n",
    "* False-Negatives"
   ]
  },
  {
   "cell_type": "markdown",
   "metadata": {},
   "source": [
    "## Long and Wide format data \n",
    "\n",
    "__In the wide format__, a subject’s repeated responses are in a single row, and each response is in a separate column while in __Long format__ repeated responses appear in different rows"
   ]
  },
  {
   "cell_type": "markdown",
   "metadata": {},
   "source": [
    "## Goal of A/B Testing\n",
    "__A/B testing or split testing__ is the comparing of two different versions of a website or app side by side to determine which one perfoms better\n"
   ]
  }
 ],
 "metadata": {
  "kernelspec": {
   "display_name": "Python 3",
   "language": "python",
   "name": "python3"
  },
  "language_info": {
   "codemirror_mode": {
    "name": "ipython",
    "version": 3
   },
   "file_extension": ".py",
   "mimetype": "text/x-python",
   "name": "python",
   "nbconvert_exporter": "python",
   "pygments_lexer": "ipython3",
   "version": "3.8.3"
  }
 },
 "nbformat": 4,
 "nbformat_minor": 4
}
