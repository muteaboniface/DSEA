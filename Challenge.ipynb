{
 "cells": [
    {
   "cell_type": "code",
   "execution_count": 1,
   "metadata": {},
   "outputs": [],
   "source": [
    "Name: Boniface Mutea , Country: Kenya , Email: muteaboniface@gmail.com"
   ]
  },
  {
   "cell_type": "code",
   "execution_count": 1,
   "metadata": {},
   "outputs": [],
   "source": [
    "import os\n",
    "import pandas as pd\n",
    "import numpy as np\n",
    "import seaborn as sns\n",
    "import matplotlib.pyplot as plt"
   ]
  },
  {
   "cell_type": "code",
   "execution_count": 2,
   "metadata": {},
   "outputs": [
    {
     "data": {
      "text/plain": [
       "'C:\\\\Users\\\\Boniface\\\\Desktop\\\\pythonpractice\\\\DataScience\\\\notebooks'"
      ]
     },
     "execution_count": 2,
     "metadata": {},
     "output_type": "execute_result"
    }
   ],
   "source": [
    "os.getcwd()"
   ]
  },
  {
   "cell_type": "code",
   "execution_count": 3,
   "metadata": {},
   "outputs": [
    {
     "data": {
      "text/html": [
       "<div>\n",
       "<style scoped>\n",
       "    .dataframe tbody tr th:only-of-type {\n",
       "        vertical-align: middle;\n",
       "    }\n",
       "\n",
       "    .dataframe tbody tr th {\n",
       "        vertical-align: top;\n",
       "    }\n",
       "\n",
       "    .dataframe thead th {\n",
       "        text-align: right;\n",
       "    }\n",
       "</style>\n",
       "<table border=\"1\" class=\"dataframe\">\n",
       "  <thead>\n",
       "    <tr style=\"text-align: right;\">\n",
       "      <th></th>\n",
       "      <th>Number</th>\n",
       "      <th>Gender</th>\n",
       "      <th>Age Range</th>\n",
       "      <th>Have Bak Account</th>\n",
       "      <th>Bank account connected to MB</th>\n",
       "      <th>use</th>\n",
       "      <th>Importance</th>\n",
       "      <th>Benefit</th>\n",
       "      <th>Bank Visit</th>\n",
       "      <th>MbSafety</th>\n",
       "      <th>Influence</th>\n",
       "      <th>Satisfaction</th>\n",
       "    </tr>\n",
       "  </thead>\n",
       "  <tbody>\n",
       "    <tr>\n",
       "      <th>0</th>\n",
       "      <td>1</td>\n",
       "      <td>Male</td>\n",
       "      <td>21-30</td>\n",
       "      <td>Yes</td>\n",
       "      <td>Current Account</td>\n",
       "      <td>Airtime Purchase</td>\n",
       "      <td>Very</td>\n",
       "      <td>CostCharges</td>\n",
       "      <td>FewTimesAyear</td>\n",
       "      <td>Somewhat</td>\n",
       "      <td>TimeSaving</td>\n",
       "      <td>HighlySatisfactory</td>\n",
       "    </tr>\n",
       "    <tr>\n",
       "      <th>1</th>\n",
       "      <td>2</td>\n",
       "      <td>Female</td>\n",
       "      <td>21-30</td>\n",
       "      <td>Yes</td>\n",
       "      <td>Current Account</td>\n",
       "      <td>Money Transfer</td>\n",
       "      <td>Very</td>\n",
       "      <td>GoodService</td>\n",
       "      <td>FewTimesAyear</td>\n",
       "      <td>Somewhat</td>\n",
       "      <td>TimeSaving</td>\n",
       "      <td>HighlySatisfactory</td>\n",
       "    </tr>\n",
       "    <tr>\n",
       "      <th>2</th>\n",
       "      <td>3</td>\n",
       "      <td>Female</td>\n",
       "      <td>21-30</td>\n",
       "      <td>Yes</td>\n",
       "      <td>Current Account</td>\n",
       "      <td>Making Payments</td>\n",
       "      <td>Very</td>\n",
       "      <td>CostCharges</td>\n",
       "      <td>FewTimesAyear</td>\n",
       "      <td>Very</td>\n",
       "      <td>TimeSaving</td>\n",
       "      <td>HighlySatisfactory</td>\n",
       "    </tr>\n",
       "    <tr>\n",
       "      <th>3</th>\n",
       "      <td>4</td>\n",
       "      <td>Female</td>\n",
       "      <td>21-30</td>\n",
       "      <td>Yes</td>\n",
       "      <td>Current Account</td>\n",
       "      <td>Airtime Purchase</td>\n",
       "      <td>NaN</td>\n",
       "      <td>GoodService</td>\n",
       "      <td>FewTimesAyear</td>\n",
       "      <td>Somewhat</td>\n",
       "      <td>TimeSaving</td>\n",
       "      <td>Satisfactory</td>\n",
       "    </tr>\n",
       "    <tr>\n",
       "      <th>4</th>\n",
       "      <td>5</td>\n",
       "      <td>Female</td>\n",
       "      <td>21-30</td>\n",
       "      <td>Yes</td>\n",
       "      <td>Current Account</td>\n",
       "      <td>Making Payments</td>\n",
       "      <td>Very</td>\n",
       "      <td>CostCharges</td>\n",
       "      <td>FewTimesAyear</td>\n",
       "      <td>Very</td>\n",
       "      <td>TimeSaving</td>\n",
       "      <td>Average</td>\n",
       "    </tr>\n",
       "  </tbody>\n",
       "</table>\n",
       "</div>"
      ],
      "text/plain": [
       "   Number  Gender Age Range Have Bak Account Bank account connected to MB  \\\n",
       "0       1    Male     21-30              Yes              Current Account   \n",
       "1       2  Female     21-30              Yes              Current Account   \n",
       "2       3  Female     21-30              Yes              Current Account   \n",
       "3       4  Female     21-30              Yes              Current Account   \n",
       "4       5  Female     21-30              Yes              Current Account   \n",
       "\n",
       "                use Importance      Benefit     Bank Visit  MbSafety  \\\n",
       "0  Airtime Purchase       Very  CostCharges  FewTimesAyear  Somewhat   \n",
       "1    Money Transfer       Very  GoodService  FewTimesAyear  Somewhat   \n",
       "2   Making Payments       Very  CostCharges  FewTimesAyear      Very   \n",
       "3  Airtime Purchase        NaN  GoodService  FewTimesAyear  Somewhat   \n",
       "4   Making Payments       Very  CostCharges  FewTimesAyear      Very   \n",
       "\n",
       "    Influence        Satisfaction  \n",
       "0  TimeSaving  HighlySatisfactory  \n",
       "1  TimeSaving  HighlySatisfactory  \n",
       "2  TimeSaving  HighlySatisfactory  \n",
       "3  TimeSaving        Satisfactory  \n",
       "4  TimeSaving             Average  "
      ]
     },
     "execution_count": 3,
     "metadata": {},
     "output_type": "execute_result"
    }
   ],
   "source": [
    "# Loading Data\n",
    "property_data = pd.read_csv(\"C:\\\\Users\\\\Boniface\\\\Desktop\\\\pythonpractice\\\\DataScience\\\\quizes\\\\property data.csv\")\n",
    "banking = pd.read_excel(\"C:\\\\Users\\\\Boniface\\\\Desktop\\\\pythonpractice\\\\DataScience\\\\quizes\\\\Mobile_Banking .xlsx\")\n",
    "\n",
    "# Reading the first 5 Rows\n",
    "banking.head()"
   ]
  },
  {
   "cell_type": "markdown",
   "metadata": {},
   "source": [
    "#### First 5 rows of banking data"
   ]
  },
  {
   "cell_type": "code",
   "execution_count": 4,
   "metadata": {},
   "outputs": [
    {
     "data": {
      "text/html": [
       "<div>\n",
       "<style scoped>\n",
       "    .dataframe tbody tr th:only-of-type {\n",
       "        vertical-align: middle;\n",
       "    }\n",
       "\n",
       "    .dataframe tbody tr th {\n",
       "        vertical-align: top;\n",
       "    }\n",
       "\n",
       "    .dataframe thead th {\n",
       "        text-align: right;\n",
       "    }\n",
       "</style>\n",
       "<table border=\"1\" class=\"dataframe\">\n",
       "  <thead>\n",
       "    <tr style=\"text-align: right;\">\n",
       "      <th></th>\n",
       "      <th>PID</th>\n",
       "      <th>ST_NUM</th>\n",
       "      <th>ST_NAME</th>\n",
       "      <th>OWN_OCCUPIED</th>\n",
       "      <th>NUM_BEDROOMS</th>\n",
       "      <th>NUM_BATH</th>\n",
       "      <th>SQ_FT</th>\n",
       "    </tr>\n",
       "  </thead>\n",
       "  <tbody>\n",
       "    <tr>\n",
       "      <th>0</th>\n",
       "      <td>100001000.0</td>\n",
       "      <td>104.0</td>\n",
       "      <td>PUTNAM</td>\n",
       "      <td>Y</td>\n",
       "      <td>3</td>\n",
       "      <td>1</td>\n",
       "      <td>1000</td>\n",
       "    </tr>\n",
       "    <tr>\n",
       "      <th>1</th>\n",
       "      <td>100002000.0</td>\n",
       "      <td>197.0</td>\n",
       "      <td>LEXINGTON</td>\n",
       "      <td>N</td>\n",
       "      <td>3</td>\n",
       "      <td>1.5</td>\n",
       "      <td>--</td>\n",
       "    </tr>\n",
       "    <tr>\n",
       "      <th>2</th>\n",
       "      <td>100003000.0</td>\n",
       "      <td>NaN</td>\n",
       "      <td>LEXINGTON</td>\n",
       "      <td>N</td>\n",
       "      <td>NaN</td>\n",
       "      <td>1</td>\n",
       "      <td>850</td>\n",
       "    </tr>\n",
       "    <tr>\n",
       "      <th>3</th>\n",
       "      <td>100004000.0</td>\n",
       "      <td>201.0</td>\n",
       "      <td>BERKELEY</td>\n",
       "      <td>12</td>\n",
       "      <td>1</td>\n",
       "      <td>NaN</td>\n",
       "      <td>700</td>\n",
       "    </tr>\n",
       "    <tr>\n",
       "      <th>4</th>\n",
       "      <td>NaN</td>\n",
       "      <td>203.0</td>\n",
       "      <td>BERKELEY</td>\n",
       "      <td>Y</td>\n",
       "      <td>3</td>\n",
       "      <td>2</td>\n",
       "      <td>1600</td>\n",
       "    </tr>\n",
       "  </tbody>\n",
       "</table>\n",
       "</div>"
      ],
      "text/plain": [
       "           PID  ST_NUM    ST_NAME OWN_OCCUPIED NUM_BEDROOMS NUM_BATH SQ_FT\n",
       "0  100001000.0   104.0     PUTNAM            Y            3        1  1000\n",
       "1  100002000.0   197.0  LEXINGTON            N            3      1.5    --\n",
       "2  100003000.0     NaN  LEXINGTON            N          NaN        1   850\n",
       "3  100004000.0   201.0   BERKELEY           12            1      NaN   700\n",
       "4          NaN   203.0   BERKELEY            Y            3        2  1600"
      ]
     },
     "execution_count": 4,
     "metadata": {},
     "output_type": "execute_result"
    }
   ],
   "source": [
    "# Reading the first 5 Rows\n",
    "property_data.head()"
   ]
  },
  {
   "cell_type": "markdown",
   "metadata": {},
   "source": [
    "#### First 5 Rows of property data"
   ]
  },
  {
   "cell_type": "code",
   "execution_count": 5,
   "metadata": {},
   "outputs": [
    {
     "data": {
      "text/html": [
       "<div>\n",
       "<style scoped>\n",
       "    .dataframe tbody tr th:only-of-type {\n",
       "        vertical-align: middle;\n",
       "    }\n",
       "\n",
       "    .dataframe tbody tr th {\n",
       "        vertical-align: top;\n",
       "    }\n",
       "\n",
       "    .dataframe thead th {\n",
       "        text-align: right;\n",
       "    }\n",
       "</style>\n",
       "<table border=\"1\" class=\"dataframe\">\n",
       "  <thead>\n",
       "    <tr style=\"text-align: right;\">\n",
       "      <th></th>\n",
       "      <th>Number</th>\n",
       "      <th>Gender</th>\n",
       "      <th>Age Range</th>\n",
       "      <th>Have Bak Account</th>\n",
       "      <th>Bank account connected to MB</th>\n",
       "      <th>use</th>\n",
       "      <th>Importance</th>\n",
       "      <th>Benefit</th>\n",
       "      <th>Bank Visit</th>\n",
       "      <th>MbSafety</th>\n",
       "      <th>Influence</th>\n",
       "      <th>Satisfaction</th>\n",
       "    </tr>\n",
       "  </thead>\n",
       "  <tbody>\n",
       "    <tr>\n",
       "      <th>38</th>\n",
       "      <td>40</td>\n",
       "      <td>Male</td>\n",
       "      <td>21-30</td>\n",
       "      <td>Yes</td>\n",
       "      <td>Current Account</td>\n",
       "      <td>Cash Withdraw</td>\n",
       "      <td>Somewhat</td>\n",
       "      <td>GoodService</td>\n",
       "      <td>FewTimesAyear</td>\n",
       "      <td>Very</td>\n",
       "      <td>TimeSaving</td>\n",
       "      <td>Satisfactory</td>\n",
       "    </tr>\n",
       "    <tr>\n",
       "      <th>39</th>\n",
       "      <td>43</td>\n",
       "      <td>Female</td>\n",
       "      <td>21-30</td>\n",
       "      <td>Yes</td>\n",
       "      <td>Savings Account</td>\n",
       "      <td>Money Transfer</td>\n",
       "      <td>Very</td>\n",
       "      <td>GoodService</td>\n",
       "      <td>OnceMonth</td>\n",
       "      <td>Very</td>\n",
       "      <td>TimeSaving</td>\n",
       "      <td>HighlySatisfactory</td>\n",
       "    </tr>\n",
       "    <tr>\n",
       "      <th>40</th>\n",
       "      <td>45</td>\n",
       "      <td>Male</td>\n",
       "      <td>21-30</td>\n",
       "      <td>Yes</td>\n",
       "      <td>None</td>\n",
       "      <td>Money Transfer</td>\n",
       "      <td>Very</td>\n",
       "      <td>GoodService</td>\n",
       "      <td>FewTimesAyear</td>\n",
       "      <td>Somewhat</td>\n",
       "      <td>TimeSaving</td>\n",
       "      <td>Satisfactory</td>\n",
       "    </tr>\n",
       "    <tr>\n",
       "      <th>41</th>\n",
       "      <td>46</td>\n",
       "      <td>Female</td>\n",
       "      <td>31-40</td>\n",
       "      <td>Yes</td>\n",
       "      <td>Current Account</td>\n",
       "      <td>Making Payments</td>\n",
       "      <td>Very</td>\n",
       "      <td>CostCharges</td>\n",
       "      <td>FewTimesAyear</td>\n",
       "      <td>Very</td>\n",
       "      <td>CostSaving</td>\n",
       "      <td>Satisfactory</td>\n",
       "    </tr>\n",
       "    <tr>\n",
       "      <th>42</th>\n",
       "      <td>47</td>\n",
       "      <td>Male</td>\n",
       "      <td>21-30</td>\n",
       "      <td>Yes</td>\n",
       "      <td>Current Account</td>\n",
       "      <td>Cash Withdraw</td>\n",
       "      <td>Very</td>\n",
       "      <td>GoodService</td>\n",
       "      <td>FewTimesAyear</td>\n",
       "      <td>Somewhat</td>\n",
       "      <td>TimeSaving</td>\n",
       "      <td>Satisfactory</td>\n",
       "    </tr>\n",
       "  </tbody>\n",
       "</table>\n",
       "</div>"
      ],
      "text/plain": [
       "    Number  Gender Age Range Have Bak Account Bank account connected to MB  \\\n",
       "38      40    Male     21-30              Yes              Current Account   \n",
       "39      43  Female     21-30              Yes              Savings Account   \n",
       "40      45    Male     21-30              Yes                         None   \n",
       "41      46  Female     31-40              Yes              Current Account   \n",
       "42      47    Male     21-30              Yes              Current Account   \n",
       "\n",
       "                use Importance      Benefit     Bank Visit  MbSafety  \\\n",
       "38    Cash Withdraw   Somewhat  GoodService  FewTimesAyear      Very   \n",
       "39   Money Transfer       Very  GoodService      OnceMonth      Very   \n",
       "40   Money Transfer       Very  GoodService  FewTimesAyear  Somewhat   \n",
       "41  Making Payments       Very  CostCharges  FewTimesAyear      Very   \n",
       "42    Cash Withdraw       Very  GoodService  FewTimesAyear  Somewhat   \n",
       "\n",
       "     Influence        Satisfaction  \n",
       "38  TimeSaving        Satisfactory  \n",
       "39  TimeSaving  HighlySatisfactory  \n",
       "40  TimeSaving        Satisfactory  \n",
       "41  CostSaving        Satisfactory  \n",
       "42  TimeSaving        Satisfactory  "
      ]
     },
     "execution_count": 5,
     "metadata": {},
     "output_type": "execute_result"
    }
   ],
   "source": [
    "# Reading last 5 Rows\n",
    "banking.iloc[-5:]"
   ]
  },
  {
   "cell_type": "markdown",
   "metadata": {},
   "source": [
    "#### Last 5 rows of banking data"
   ]
  },
  {
   "cell_type": "code",
   "execution_count": 6,
   "metadata": {},
   "outputs": [
    {
     "data": {
      "text/html": [
       "<div>\n",
       "<style scoped>\n",
       "    .dataframe tbody tr th:only-of-type {\n",
       "        vertical-align: middle;\n",
       "    }\n",
       "\n",
       "    .dataframe tbody tr th {\n",
       "        vertical-align: top;\n",
       "    }\n",
       "\n",
       "    .dataframe thead th {\n",
       "        text-align: right;\n",
       "    }\n",
       "</style>\n",
       "<table border=\"1\" class=\"dataframe\">\n",
       "  <thead>\n",
       "    <tr style=\"text-align: right;\">\n",
       "      <th></th>\n",
       "      <th>PID</th>\n",
       "      <th>ST_NUM</th>\n",
       "      <th>ST_NAME</th>\n",
       "      <th>OWN_OCCUPIED</th>\n",
       "      <th>NUM_BEDROOMS</th>\n",
       "      <th>NUM_BATH</th>\n",
       "      <th>SQ_FT</th>\n",
       "    </tr>\n",
       "  </thead>\n",
       "  <tbody>\n",
       "    <tr>\n",
       "      <th>4</th>\n",
       "      <td>NaN</td>\n",
       "      <td>203.0</td>\n",
       "      <td>BERKELEY</td>\n",
       "      <td>Y</td>\n",
       "      <td>3</td>\n",
       "      <td>2</td>\n",
       "      <td>1600</td>\n",
       "    </tr>\n",
       "    <tr>\n",
       "      <th>5</th>\n",
       "      <td>100006000.0</td>\n",
       "      <td>207.0</td>\n",
       "      <td>BERKELEY</td>\n",
       "      <td>Y</td>\n",
       "      <td>NaN</td>\n",
       "      <td>1</td>\n",
       "      <td>800</td>\n",
       "    </tr>\n",
       "    <tr>\n",
       "      <th>6</th>\n",
       "      <td>100007000.0</td>\n",
       "      <td>NaN</td>\n",
       "      <td>WASHINGTON</td>\n",
       "      <td>NaN</td>\n",
       "      <td>2</td>\n",
       "      <td>HURLEY</td>\n",
       "      <td>950</td>\n",
       "    </tr>\n",
       "    <tr>\n",
       "      <th>7</th>\n",
       "      <td>100008000.0</td>\n",
       "      <td>213.0</td>\n",
       "      <td>TREMONT</td>\n",
       "      <td>Y</td>\n",
       "      <td>1</td>\n",
       "      <td>1</td>\n",
       "      <td>NaN</td>\n",
       "    </tr>\n",
       "    <tr>\n",
       "      <th>8</th>\n",
       "      <td>100009000.0</td>\n",
       "      <td>215.0</td>\n",
       "      <td>TREMONT</td>\n",
       "      <td>Y</td>\n",
       "      <td>na</td>\n",
       "      <td>2</td>\n",
       "      <td>1800</td>\n",
       "    </tr>\n",
       "  </tbody>\n",
       "</table>\n",
       "</div>"
      ],
      "text/plain": [
       "           PID  ST_NUM     ST_NAME OWN_OCCUPIED NUM_BEDROOMS NUM_BATH SQ_FT\n",
       "4          NaN   203.0    BERKELEY            Y            3        2  1600\n",
       "5  100006000.0   207.0    BERKELEY            Y          NaN        1   800\n",
       "6  100007000.0     NaN  WASHINGTON          NaN            2   HURLEY   950\n",
       "7  100008000.0   213.0     TREMONT            Y            1        1   NaN\n",
       "8  100009000.0   215.0     TREMONT            Y           na        2  1800"
      ]
     },
     "execution_count": 6,
     "metadata": {},
     "output_type": "execute_result"
    }
   ],
   "source": [
    "# Reading last 5 Rows\n",
    "property_data.iloc[-5:]"
   ]
  },
  {
   "cell_type": "markdown",
   "metadata": {},
   "source": [
    "#### Last 5 rows of property data"
   ]
  },
  {
   "cell_type": "code",
   "execution_count": 7,
   "metadata": {},
   "outputs": [
    {
     "data": {
      "text/html": [
       "<div>\n",
       "<style scoped>\n",
       "    .dataframe tbody tr th:only-of-type {\n",
       "        vertical-align: middle;\n",
       "    }\n",
       "\n",
       "    .dataframe tbody tr th {\n",
       "        vertical-align: top;\n",
       "    }\n",
       "\n",
       "    .dataframe thead th {\n",
       "        text-align: right;\n",
       "    }\n",
       "</style>\n",
       "<table border=\"1\" class=\"dataframe\">\n",
       "  <thead>\n",
       "    <tr style=\"text-align: right;\">\n",
       "      <th></th>\n",
       "      <th>PID</th>\n",
       "      <th>ST_NUM</th>\n",
       "    </tr>\n",
       "  </thead>\n",
       "  <tbody>\n",
       "    <tr>\n",
       "      <th>count</th>\n",
       "      <td>8.000000e+00</td>\n",
       "      <td>7.000000</td>\n",
       "    </tr>\n",
       "    <tr>\n",
       "      <th>mean</th>\n",
       "      <td>1.000050e+08</td>\n",
       "      <td>191.428571</td>\n",
       "    </tr>\n",
       "    <tr>\n",
       "      <th>std</th>\n",
       "      <td>2.927700e+03</td>\n",
       "      <td>39.080503</td>\n",
       "    </tr>\n",
       "    <tr>\n",
       "      <th>min</th>\n",
       "      <td>1.000010e+08</td>\n",
       "      <td>104.000000</td>\n",
       "    </tr>\n",
       "    <tr>\n",
       "      <th>25%</th>\n",
       "      <td>1.000028e+08</td>\n",
       "      <td>199.000000</td>\n",
       "    </tr>\n",
       "    <tr>\n",
       "      <th>50%</th>\n",
       "      <td>1.000050e+08</td>\n",
       "      <td>203.000000</td>\n",
       "    </tr>\n",
       "    <tr>\n",
       "      <th>75%</th>\n",
       "      <td>1.000072e+08</td>\n",
       "      <td>210.000000</td>\n",
       "    </tr>\n",
       "    <tr>\n",
       "      <th>max</th>\n",
       "      <td>1.000090e+08</td>\n",
       "      <td>215.000000</td>\n",
       "    </tr>\n",
       "  </tbody>\n",
       "</table>\n",
       "</div>"
      ],
      "text/plain": [
       "                PID      ST_NUM\n",
       "count  8.000000e+00    7.000000\n",
       "mean   1.000050e+08  191.428571\n",
       "std    2.927700e+03   39.080503\n",
       "min    1.000010e+08  104.000000\n",
       "25%    1.000028e+08  199.000000\n",
       "50%    1.000050e+08  203.000000\n",
       "75%    1.000072e+08  210.000000\n",
       "max    1.000090e+08  215.000000"
      ]
     },
     "execution_count": 7,
     "metadata": {},
     "output_type": "execute_result"
    }
   ],
   "source": [
    "# Summary of datasets\n",
    "property_data.describe()"
   ]
  },
  {
   "cell_type": "markdown",
   "metadata": {},
   "source": [
    "#### Summary of property data\n",
    "\n"
   ]
  },
  {
   "cell_type": "code",
   "execution_count": 8,
   "metadata": {},
   "outputs": [
    {
     "data": {
      "text/html": [
       "<div>\n",
       "<style scoped>\n",
       "    .dataframe tbody tr th:only-of-type {\n",
       "        vertical-align: middle;\n",
       "    }\n",
       "\n",
       "    .dataframe tbody tr th {\n",
       "        vertical-align: top;\n",
       "    }\n",
       "\n",
       "    .dataframe thead th {\n",
       "        text-align: right;\n",
       "    }\n",
       "</style>\n",
       "<table border=\"1\" class=\"dataframe\">\n",
       "  <thead>\n",
       "    <tr style=\"text-align: right;\">\n",
       "      <th></th>\n",
       "      <th>Number</th>\n",
       "    </tr>\n",
       "  </thead>\n",
       "  <tbody>\n",
       "    <tr>\n",
       "      <th>count</th>\n",
       "      <td>43.000000</td>\n",
       "    </tr>\n",
       "    <tr>\n",
       "      <th>mean</th>\n",
       "      <td>22.674419</td>\n",
       "    </tr>\n",
       "    <tr>\n",
       "      <th>std</th>\n",
       "      <td>13.412363</td>\n",
       "    </tr>\n",
       "    <tr>\n",
       "      <th>min</th>\n",
       "      <td>1.000000</td>\n",
       "    </tr>\n",
       "    <tr>\n",
       "      <th>25%</th>\n",
       "      <td>11.500000</td>\n",
       "    </tr>\n",
       "    <tr>\n",
       "      <th>50%</th>\n",
       "      <td>22.000000</td>\n",
       "    </tr>\n",
       "    <tr>\n",
       "      <th>75%</th>\n",
       "      <td>33.500000</td>\n",
       "    </tr>\n",
       "    <tr>\n",
       "      <th>max</th>\n",
       "      <td>47.000000</td>\n",
       "    </tr>\n",
       "  </tbody>\n",
       "</table>\n",
       "</div>"
      ],
      "text/plain": [
       "          Number\n",
       "count  43.000000\n",
       "mean   22.674419\n",
       "std    13.412363\n",
       "min     1.000000\n",
       "25%    11.500000\n",
       "50%    22.000000\n",
       "75%    33.500000\n",
       "max    47.000000"
      ]
     },
     "execution_count": 8,
     "metadata": {},
     "output_type": "execute_result"
    }
   ],
   "source": [
    "# Summary of dataset\n",
    "banking.describe()"
   ]
  },
  {
   "cell_type": "markdown",
   "metadata": {},
   "source": [
    "#### Summary of banking data"
   ]
  },
  {
   "cell_type": "code",
   "execution_count": 9,
   "metadata": {},
   "outputs": [
    {
     "name": "stdout",
     "output_type": "stream",
     "text": [
      "<class 'pandas.core.frame.DataFrame'>\n",
      "RangeIndex: 9 entries, 0 to 8\n",
      "Data columns (total 7 columns):\n",
      " #   Column        Non-Null Count  Dtype  \n",
      "---  ------        --------------  -----  \n",
      " 0   PID           8 non-null      float64\n",
      " 1   ST_NUM        7 non-null      float64\n",
      " 2   ST_NAME       9 non-null      object \n",
      " 3   OWN_OCCUPIED  8 non-null      object \n",
      " 4   NUM_BEDROOMS  7 non-null      object \n",
      " 5   NUM_BATH      8 non-null      object \n",
      " 6   SQ_FT         8 non-null      object \n",
      "dtypes: float64(2), object(5)\n",
      "memory usage: 388.0+ bytes\n"
     ]
    }
   ],
   "source": [
    "property_data.info()"
   ]
  },
  {
   "cell_type": "markdown",
   "metadata": {},
   "source": [
    "#### Info regarding property data"
   ]
  },
  {
   "cell_type": "code",
   "execution_count": 10,
   "metadata": {},
   "outputs": [
    {
     "name": "stdout",
     "output_type": "stream",
     "text": [
      "<class 'pandas.core.frame.DataFrame'>\n",
      "RangeIndex: 43 entries, 0 to 42\n",
      "Data columns (total 12 columns):\n",
      " #   Column                        Non-Null Count  Dtype \n",
      "---  ------                        --------------  ----- \n",
      " 0   Number                        43 non-null     int64 \n",
      " 1   Gender                        43 non-null     object\n",
      " 2   Age Range                     43 non-null     object\n",
      " 3   Have Bak Account              43 non-null     object\n",
      " 4   Bank account connected to MB  43 non-null     object\n",
      " 5   use                           43 non-null     object\n",
      " 6   Importance                    42 non-null     object\n",
      " 7   Benefit                       43 non-null     object\n",
      " 8   Bank Visit                    43 non-null     object\n",
      " 9   MbSafety                      43 non-null     object\n",
      " 10  Influence                     43 non-null     object\n",
      " 11  Satisfaction                  43 non-null     object\n",
      "dtypes: int64(1), object(11)\n",
      "memory usage: 2.2+ KB\n"
     ]
    }
   ],
   "source": [
    "banking.info()"
   ]
  },
  {
   "cell_type": "markdown",
   "metadata": {},
   "source": [
    "### Banking info"
   ]
  },
  {
   "cell_type": "code",
   "execution_count": 11,
   "metadata": {},
   "outputs": [
    {
     "data": {
      "text/plain": [
       "<seaborn.axisgrid.FacetGrid at 0x11e8ef28>"
      ]
     },
     "execution_count": 11,
     "metadata": {},
     "output_type": "execute_result"
    },
    {
     "data": {
      "image/png": "[encoded data removed]",
      "text/plain": [
       "<Figure size 2520x360 with 7 Axes>"
      ]
     },
     "metadata": {
      "needs_background": "light"
     },
     "output_type": "display_data"
    }
   ],
   "source": [
    "# Plots\n",
    "# Factorplot\n",
    "sns.catplot(x='PID',col='ST_NUM',data=property_data)"
   ]
  },
  {
   "cell_type": "code",
   "execution_count": 12,
   "metadata": {},
   "outputs": [
    {
     "data": {
      "text/plain": [
       "<AxesSubplot:xlabel='Bank Visit', ylabel='count'>"
      ]
     },
     "execution_count": 12,
     "metadata": {},
     "output_type": "execute_result"
    },
    {
     "data": {
      "image/png": "[encoded data removed]",
      "text/plain": [
       "<Figure size 432x288 with 1 Axes>"
      ]
     },
     "metadata": {
      "needs_background": "light"
     },
     "output_type": "display_data"
    }
   ],
   "source": [
    "# Countplot\n",
    "sns.countplot(x='Bank Visit', hue='MbSafety',data=banking)"
   ]
  },
  {
   "cell_type": "code",
   "execution_count": 13,
   "metadata": {},
   "outputs": [
    {
     "data": {
      "text/plain": [
       "<AxesSubplot:>"
      ]
     },
     "execution_count": 13,
     "metadata": {},
     "output_type": "execute_result"
    },
    {
     "data": {
      "image/png": "[encoded data removed]",
      "text/plain": [
       "<Figure size 720x576 with 2 Axes>"
      ]
     },
     "metadata": {
      "needs_background": "light"
     },
     "output_type": "display_data"
    }
   ],
   "source": [
    "# Plotting Correlation Plots\n",
    "plt.figure(figsize=(10, 8))\n",
    "sns.heatmap(property_data.corr(), annot=True,cmap='RdYlGn')"
   ]
  },
  {
   "cell_type": "code",
   "execution_count": 14,
   "metadata": {},
   "outputs": [
    {
     "data": {
      "text/plain": [
       "array([1, 5, 4, 6, 8])"
      ]
     },
     "execution_count": 14,
     "metadata": {},
     "output_type": "execute_result"
    }
   ],
   "source": [
    "# Creating an array of 5 entries\n",
    "five = np.array([1,5,4,6,8],dtype=int)\n",
    "five"
   ]
  },
  {
   "cell_type": "code",
   "execution_count": 15,
   "metadata": {},
   "outputs": [
    {
     "data": {
      "image/png": "[encoded data removed]",
      "text/plain": [
       "<Figure size 432x288 with 1 Axes>"
      ]
     },
     "metadata": {},
     "output_type": "display_data"
    }
   ],
   "source": [
    "# Plotting the Pie Chart using matplotlib\n",
    "colors = ['gold', 'yellowgreen', 'lightcoral', 'lightskyblue','cyan']\n",
    "plt.pie(five,colors=colors,autopct='%1.1f%%')\n",
    "plt.axis('equal')\n",
    "plt.show()\n"
   ]
  }
 ],
 "metadata": {
  "kernelspec": {
   "display_name": "Python 3",
   "language": "python",
   "name": "python3"
  },
  "language_info": {
   "codemirror_mode": {
    "name": "ipython",
    "version": 3
   },
   "file_extension": ".py",
   "mimetype": "text/x-python",
   "name": "python",
   "nbconvert_exporter": "python",
   "pygments_lexer": "ipython3",
   "version": "3.8.3"
  }
 },
 "nbformat": 4,
 "nbformat_minor": 4
}
